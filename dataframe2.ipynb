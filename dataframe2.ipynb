{
  "nbformat": 4,
  "nbformat_minor": 0,
  "metadata": {
    "colab": {
      "provenance": [],
      "authorship_tag": "ABX9TyPcKVK8j4ufum/X6fkHK+nN",
      "include_colab_link": true
    },
    "kernelspec": {
      "name": "python3",
      "display_name": "Python 3"
    },
    "language_info": {
      "name": "python"
    }
  },
  "cells": [
    {
      "cell_type": "markdown",
      "metadata": {
        "id": "view-in-github",
        "colab_type": "text"
      },
      "source": [
        "<a href=\"https://colab.research.google.com/github/iram288/codeDF/blob/main/dataframe2.ipynb\" target=\"_parent\"><img src=\"https://colab.research.google.com/assets/colab-badge.svg\" alt=\"Open In Colab\"/></a>"
      ]
    },
    {
      "cell_type": "code",
      "execution_count": 3,
      "metadata": {
        "id": "Vy5T9qMK-dvg",
        "colab": {
          "base_uri": "https://localhost:8080/"
        },
        "outputId": "643818ae-870e-4db2-f934-9ce22e0e3f94"
      },
      "outputs": [
        {
          "output_type": "stream",
          "name": "stdout",
          "text": [
            "   Name  Age   City\n",
            "0  Annu   20  Delhi\n"
          ]
        }
      ],
      "source": [
        "import pandas as pd\n",
        "dict1={\"Name\":\"Annu\",\"Age\":20,\"City\":\"Delhi\"}\n",
        "df=pd.DataFrame(dict1,index=[0])\n",
        "print(df)\n",
        "\n"
      ]
    }
  ]
}