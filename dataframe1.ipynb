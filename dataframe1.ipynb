{
  "nbformat": 4,
  "nbformat_minor": 0,
  "metadata": {
    "colab": {
      "provenance": [],
      "toc_visible": true,
      "authorship_tag": "ABX9TyPtX7VImI8NCqc0ZBx7rhmH",
      "include_colab_link": true
    },
    "kernelspec": {
      "name": "python3",
      "display_name": "Python 3"
    },
    "language_info": {
      "name": "python"
    }
  },
  "cells": [
    {
      "cell_type": "markdown",
      "metadata": {
        "id": "view-in-github",
        "colab_type": "text"
      },
      "source": [
        "<a href=\"https://colab.research.google.com/github/iram288/codeDF/blob/main/dataframe1.ipynb\" target=\"_parent\"><img src=\"https://colab.research.google.com/assets/colab-badge.svg\" alt=\"Open In Colab\"/></a>"
      ]
    },
    {
      "cell_type": "code",
      "execution_count": 2,
      "metadata": {
        "colab": {
          "base_uri": "https://localhost:8080/"
        },
        "id": "w_lMN0UC5Had",
        "outputId": "09de084e-c844-4831-cc91-d070bba48801"
      },
      "outputs": [
        {
          "output_type": "stream",
          "name": "stdout",
          "text": [
            "    0\n",
            "0  90\n",
            "1  98\n",
            "2  97\n",
            "3  80\n"
          ]
        }
      ],
      "source": [
        "# create dataframe using list\n",
        "import pandas as pd\n",
        "marks=[90,98,97,80]\n",
        "df=pd.DataFrame(marks)\n",
        "print(df)"
      ]
    }
  ]
}